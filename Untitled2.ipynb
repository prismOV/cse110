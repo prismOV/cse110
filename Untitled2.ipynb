{
  "cells": [
    {
      "cell_type": "markdown",
      "metadata": {
        "id": "view-in-github",
        "colab_type": "text"
      },
      "source": [
        "<a href=\"https://colab.research.google.com/github/prismOV/cse110/blob/main/Untitled2.ipynb\" target=\"_parent\"><img src=\"https://colab.research.google.com/assets/colab-badge.svg\" alt=\"Open In Colab\"/></a>"
      ]
    },
    {
      "cell_type": "code",
      "execution_count": null,
      "metadata": {
        "id": "6XuyIOKlN4Am"
      },
      "outputs": [],
      "source": [
        ""
      ]
    },
    {
      "cell_type": "code",
      "execution_count": null,
      "metadata": {
        "colab": {
          "base_uri": "https://localhost:8080/"
        },
        "id": "3OpE7MfdPvfe",
        "outputId": "a1e3fe6a-08fe-4bdc-d764-b8a0a45c655f"
      },
      "outputs": [
        {
          "name": "stdout",
          "output_type": "stream",
          "text": [
            "1\n",
            "2\n",
            "3\n",
            "4\n",
            "5\n",
            "6\n",
            "7\n",
            "8\n",
            "[[1, 2], [3, 4]]\n",
            "[[5, 6], [7, 8]]\n",
            "6\n",
            "8\n",
            "10\n",
            "12\n",
            "[[6, 8], [10, 12]]\n"
          ]
        }
      ],
      "source": [
        "def matrix():\n",
        "  row = int(2)\n",
        "  col = int(2)\n",
        "  mtx =[]\n",
        "  for r in range(row):\n",
        "    row1 = []\n",
        "\n",
        "    for i in range(col) :\n",
        "      row1.append(int(input()))\n",
        "\n",
        "    mtx.append(row1)\n",
        "  return(mtx)\n",
        "\n",
        "\n",
        "m1= matrix()\n",
        "m2 = matrix()\n",
        "print(m1)\n",
        "print(m2)\n",
        "row = int(2)\n",
        "col = int(2)\n",
        "mtx =m1\n",
        "for j in range(len(m1)):\n",
        "  for i in range(len(m1)):\n",
        "\n",
        "    sum= m1[j][i]+m2[j][i]\n",
        "    print(sum)\n",
        "    mtx[j][i]= sum\n",
        "\n",
        "print(mtx)"
      ]
    },
    {
      "cell_type": "code",
      "source": [
        ""
      ],
      "metadata": {
        "id": "Nbk-OvZqewNL"
      },
      "execution_count": null,
      "outputs": []
    },
    {
      "cell_type": "code",
      "execution_count": null,
      "metadata": {
        "colab": {
          "base_uri": "https://localhost:8080/"
        },
        "id": "oDozN1DelXJD",
        "outputId": "124234bc-ea16-46c3-95c4-e81389be67c0"
      },
      "outputs": [
        {
          "output_type": "stream",
          "name": "stdout",
          "text": [
            "1\n",
            "2\n",
            "3\n",
            "4\n",
            "[[1, 2], [3, 4]]\n",
            "[[1, 3], [2, 4]]\n",
            "[[1, 2], [3, 4]]\n"
          ]
        }
      ],
      "source": [
        "def matrix():\n",
        "  row = int(2)\n",
        "  col = int(2)\n",
        "  mtx =[]\n",
        "  for r in range(row):\n",
        "    row1 = []\n",
        "\n",
        "    for i in range(col) :\n",
        "      row1.append(int(input()))\n",
        "\n",
        "    mtx.append(row1)\n",
        "  print(mtx)\n",
        "  return(mtx)\n",
        "m1= matrix()\n",
        "m2= [[0, 0], [0, 0]]\n",
        "for j in range(len(m1)):\n",
        "  for i in range(len(m1)):\n",
        "    m2[i][j]= m1[j][i]\n",
        "print(m2)\n"
      ]
    },
    {
      "cell_type": "code",
      "source": [
        "def matrix():\n",
        "  row = int(2)\n",
        "  col = int(2)\n",
        "  mtx =[]\n",
        "  for r in range(row):\n",
        "    row1 = []\n",
        "\n",
        "    for i in range(col) :\n",
        "      row1.append(int(input()))\n",
        "\n",
        "    mtx.append(row1)\n",
        "  return(mtx)\n",
        "\n",
        "\n",
        "m1= matrix()\n",
        "m2 = matrix()\n",
        "print(m1)\n",
        "print(m2)"
      ],
      "metadata": {
        "colab": {
          "base_uri": "https://localhost:8080/"
        },
        "id": "IILMQGh9Q8bK",
        "outputId": "1bb2fe64-da12-4331-b585-bbb6e0fc1a5d"
      },
      "execution_count": null,
      "outputs": [
        {
          "output_type": "stream",
          "name": "stdout",
          "text": [
            "1\n",
            "2\n",
            "3\n",
            "4\n",
            "3\n",
            "4\n",
            "5\n",
            "6\n",
            "[[1, 2], [3, 4]]\n",
            "[[3, 4], [5, 6]]\n"
          ]
        }
      ]
    },
    {
      "cell_type": "code",
      "source": [
        "\n",
        "#Implementation of Two Player Tic-Tac-Toe game in Python.\n",
        "\n",
        "''' We will make the board using dictionary \n",
        "    in which keys will be the location(i.e : top-left,mid-right,etc.)\n",
        "    and initialliy it's values will be empty space and then after every move \n",
        "    we will change the value according to player's choice of move. '''\n",
        "\n",
        "theBoard = {'7': ' ' , '8': ' ' , '9': ' ' ,\n",
        "            '4': ' ' , '5': ' ' , '6': ' ' ,\n",
        "            '1': ' ' , '2': ' ' , '3': ' ' }\n",
        "\n",
        "board_keys = []\n",
        "\n",
        "for key in theBoard:\n",
        "    board_keys.append(key)\n",
        "\n",
        "''' We will have to print the updated board after every move in the game and \n",
        "    thus we will make a function in which we'll define the printBoard function\n",
        "    so that we can easily print the board everytime by calling this function. '''\n",
        "\n",
        "def printBoard(board):\n",
        "    print(board['7'] + '|' + board['8'] + '|' + board['9'])\n",
        "    print('-+-+-')\n",
        "    print(board['4'] + '|' + board['5'] + '|' + board['6'])\n",
        "    print('-+-+-')\n",
        "    print(board['1'] + '|' + board['2'] + '|' + board['3'])\n",
        "\n",
        "# Now we'll write the main function which has all the gameplay functionality.\n",
        "def game():\n",
        "\n",
        "    turn = 'X'\n",
        "    count = 0\n",
        "\n",
        "\n",
        "    for i in range(10):\n",
        "        printBoard(theBoard)\n",
        "        print(\"It's your turn,\" + turn + \".Move to which place?\")\n",
        "\n",
        "        move = input()        \n",
        "\n",
        "        if theBoard[move] == ' ':\n",
        "            theBoard[move] = turn\n",
        "            count += 1\n",
        "        else:\n",
        "            print(\"That place is already filled.\\nMove to which place?\")\n",
        "            continue\n",
        "\n",
        "        # Now we will check if player X or O has won,for every move after 5 moves. \n",
        "        if count >= 5:\n",
        "            if theBoard['7'] == theBoard['8'] == theBoard['9'] != ' ': # across the top\n",
        "                printBoard(theBoard)\n",
        "                print(\"\\nGame Over.\\n\")                \n",
        "                print(\" **** \" +turn + \" won. ****\")                \n",
        "                break\n",
        "            elif theBoard['4'] == theBoard['5'] == theBoard['6'] != ' ': # across the middle\n",
        "                printBoard(theBoard)\n",
        "                print(\"\\nGame Over.\\n\")                \n",
        "                print(\" **** \" +turn + \" won. ****\")\n",
        "                break\n",
        "            elif theBoard['1'] == theBoard['2'] == theBoard['3'] != ' ': # across the bottom\n",
        "                printBoard(theBoard)\n",
        "                print(\"\\nGame Over.\\n\")                \n",
        "                print(\" **** \" +turn + \" won. ****\")\n",
        "                break\n",
        "            elif theBoard['1'] == theBoard['4'] == theBoard['7'] != ' ': # down the left side\n",
        "                printBoard(theBoard)\n",
        "                print(\"\\nGame Over.\\n\")                \n",
        "                print(\" **** \" +turn + \" won. ****\")\n",
        "                break\n",
        "            elif theBoard['2'] == theBoard['5'] == theBoard['8'] != ' ': # down the middle\n",
        "                printBoard(theBoard)\n",
        "                print(\"\\nGame Over.\\n\")                \n",
        "                print(\" **** \" +turn + \" won. ****\")\n",
        "                break\n",
        "            elif theBoard['3'] == theBoard['6'] == theBoard['9'] != ' ': # down the right side\n",
        "                printBoard(theBoard)\n",
        "                print(\"\\nGame Over.\\n\")                \n",
        "                print(\" **** \" +turn + \" won. ****\")\n",
        "                break \n",
        "            elif theBoard['7'] == theBoard['5'] == theBoard['3'] != ' ': # diagonal\n",
        "                printBoard(theBoard)\n",
        "                print(\"\\nGame Over.\\n\")                \n",
        "                print(\" **** \" +turn + \" won. ****\")\n",
        "                break\n",
        "            elif theBoard['1'] == theBoard['5'] == theBoard['9'] != ' ': # diagonal\n",
        "                printBoard(theBoard)\n",
        "                print(\"\\nGame Over.\\n\")                \n",
        "                print(\" **** \" +turn + \" won. ****\")\n",
        "                break \n",
        "\n",
        "        # If neither X nor O wins and the board is full, we'll declare the result as 'tie'.\n",
        "        if count == 9:\n",
        "            print(\"\\nGame Over.\\n\")                \n",
        "            print(\"It's a Tie!!\")\n",
        "\n",
        "        # Now we have to change the player after every move.\n",
        "        if turn =='X':\n",
        "            turn = 'O'\n",
        "        else:\n",
        "            turn = 'X'        \n",
        "    \n",
        "    # Now we will ask if player wants to restart the game or not.\n",
        "    restart = input(\"Do want to play Again?(y/n)\")\n",
        "    if restart == \"y\" or restart == \"Y\":  \n",
        "        for key in board_keys:\n",
        "            theBoard[key] = \" \"\n",
        "\n",
        "        game()\n",
        "\n",
        "if __name__ == \"__main__\":\n",
        "    game()\n"
      ],
      "metadata": {
        "colab": {
          "base_uri": "https://localhost:8080/",
          "height": 443
        },
        "id": "MQDim9arexmc",
        "outputId": "c9ec2e8b-8cd1-46e6-fc53-4c0311911b27"
      },
      "execution_count": null,
      "outputs": [
        {
          "name": "stdout",
          "output_type": "stream",
          "text": [
            " | | \n",
            "-+-+-\n",
            " | | \n",
            "-+-+-\n",
            " | | \n",
            "It's your turn,X.Move to which place?\n",
            "11\n"
          ]
        },
        {
          "output_type": "error",
          "ename": "KeyError",
          "evalue": "ignored",
          "traceback": [
            "\u001b[0;31m---------------------------------------------------------------------------\u001b[0m",
            "\u001b[0;31mKeyError\u001b[0m                                  Traceback (most recent call last)",
            "\u001b[0;32m<ipython-input-3-c4ea6ac737b7>\u001b[0m in \u001b[0;36m<module>\u001b[0;34m()\u001b[0m\n\u001b[1;32m    110\u001b[0m \u001b[0;34m\u001b[0m\u001b[0m\n\u001b[1;32m    111\u001b[0m \u001b[0;32mif\u001b[0m \u001b[0m__name__\u001b[0m \u001b[0;34m==\u001b[0m \u001b[0;34m\"__main__\"\u001b[0m\u001b[0;34m:\u001b[0m\u001b[0;34m\u001b[0m\u001b[0;34m\u001b[0m\u001b[0m\n\u001b[0;32m--> 112\u001b[0;31m     \u001b[0mgame\u001b[0m\u001b[0;34m(\u001b[0m\u001b[0;34m)\u001b[0m\u001b[0;34m\u001b[0m\u001b[0;34m\u001b[0m\u001b[0m\n\u001b[0m",
            "\u001b[0;32m<ipython-input-3-c4ea6ac737b7>\u001b[0m in \u001b[0;36mgame\u001b[0;34m()\u001b[0m\n\u001b[1;32m     40\u001b[0m         \u001b[0mmove\u001b[0m \u001b[0;34m=\u001b[0m \u001b[0minput\u001b[0m\u001b[0;34m(\u001b[0m\u001b[0;34m)\u001b[0m\u001b[0;34m\u001b[0m\u001b[0;34m\u001b[0m\u001b[0m\n\u001b[1;32m     41\u001b[0m \u001b[0;34m\u001b[0m\u001b[0m\n\u001b[0;32m---> 42\u001b[0;31m         \u001b[0;32mif\u001b[0m \u001b[0mtheBoard\u001b[0m\u001b[0;34m[\u001b[0m\u001b[0mmove\u001b[0m\u001b[0;34m]\u001b[0m \u001b[0;34m==\u001b[0m \u001b[0;34m' '\u001b[0m\u001b[0;34m:\u001b[0m\u001b[0;34m\u001b[0m\u001b[0;34m\u001b[0m\u001b[0m\n\u001b[0m\u001b[1;32m     43\u001b[0m             \u001b[0mtheBoard\u001b[0m\u001b[0;34m[\u001b[0m\u001b[0mmove\u001b[0m\u001b[0;34m]\u001b[0m \u001b[0;34m=\u001b[0m \u001b[0mturn\u001b[0m\u001b[0;34m\u001b[0m\u001b[0;34m\u001b[0m\u001b[0m\n\u001b[1;32m     44\u001b[0m             \u001b[0mcount\u001b[0m \u001b[0;34m+=\u001b[0m \u001b[0;36m1\u001b[0m\u001b[0;34m\u001b[0m\u001b[0;34m\u001b[0m\u001b[0m\n",
            "\u001b[0;31mKeyError\u001b[0m: '11'"
          ]
        }
      ]
    }
  ],
  "metadata": {
    "colab": {
      "name": "Untitled2.ipynb",
      "provenance": [],
      "authorship_tag": "ABX9TyOIG16HCyW5grE67HCJmreY",
      "include_colab_link": true
    },
    "kernelspec": {
      "display_name": "Python 3",
      "name": "python3"
    },
    "language_info": {
      "name": "python"
    }
  },
  "nbformat": 4,
  "nbformat_minor": 0
}